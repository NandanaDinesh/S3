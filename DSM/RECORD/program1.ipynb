{
 "cells": [
  {
   "cell_type": "code",
   "execution_count": null,
   "id": "c72b86c2",
   "metadata": {},
   "outputs": [
    {
     "name": "stdout",
     "output_type": "stream",
     "text": [
      "Select operation: 1.Addition, 2.Substraction, 3.multiplication, 4.Division, /\n"
     ]
    }
   ],
   "source": [
    "print(\"Select operation: 1.Addition, 2.Substraction, 3.multiplication, 4.Division, /\") \n",
    "ch = input(\"Enter choice: \") \n",
    "num1 = float(input(\"Enter first number: \")) \n",
    "num2 = float(input(\"Enter second number: \")) \n",
    " \n",
    "if ch == '1': \n",
    "    print(\"Result:\", num1 + num2) \n",
    "elif ch == '2': \n",
    "    print(\"Result:\", num1 - num2) \n",
    "elif ch == '3': \n",
    "    print(\"Result:\", num1 * num2) \n",
    "elif ch == '4': \n",
    "    if num2 != 0: \n",
    "        print(\"Result:\", num1 / num2) \n",
    "    else: \n",
    "        print(\"Error: Division by zero!\") \n",
    "else: \n",
    "    print(\"Invalid operator\")"
   ]
  },
  {
   "cell_type": "code",
   "execution_count": 1,
   "id": "bb8dc373",
   "metadata": {},
   "outputs": [],
   "source": [
    "a = 5 \n",
    "b = 8 "
   ]
  },
  {
   "cell_type": "code",
   "execution_count": 2,
   "id": "aebefefa",
   "metadata": {},
   "outputs": [
    {
     "name": "stdout",
     "output_type": "stream",
     "text": [
      "a AND b: 8\n"
     ]
    }
   ],
   "source": [
    "print(\"a AND b:\", a and b) \n"
   ]
  },
  {
   "cell_type": "code",
   "execution_count": 3,
   "id": "e670bc8d",
   "metadata": {},
   "outputs": [
    {
     "name": "stdout",
     "output_type": "stream",
     "text": [
      "a OR b: 5\n",
      "NOT a: False\n",
      "a > b: False\n",
      "a == b: False\n",
      "a >= b: False\n",
      "a <= b: True\n",
      "a < b: True\n"
     ]
    }
   ],
   "source": [
    "print(\"a OR b:\", a or b) \n",
    "print(\"NOT a:\", not a) \n",
    "print(\"a > b:\", a > b) \n",
    "print(\"a == b:\", a == b) \n",
    "print(\"a >= b:\", a >= b) \n",
    "print(\"a <= b:\", a <= b) \n",
    "print(\"a < b:\", a < b)"
   ]
  },
  {
   "cell_type": "code",
   "execution_count": 10,
   "id": "a20212a5",
   "metadata": {},
   "outputs": [
    {
     "name": "stdout",
     "output_type": "stream",
     "text": [
      "Merged Dictionary: {'a': 1, 'b': 2, 'c': 3, 'd': 4}\n"
     ]
    }
   ],
   "source": [
    "def merge_dictionaries():\n",
    "    dict1 = {'a': 1, 'b': 2} \n",
    "    dict2 = {'c': 3, 'd': 4} \n",
    "    merged_dict = dict1.copy() \n",
    "    merged_dict.update(dict2) \n",
    "    print(\"Merged Dictionary:\", merged_dict) \n",
    "merge_dictionaries()\n",
    "    "
   ]
  },
  {
   "cell_type": "code",
   "execution_count": null,
   "id": "557d371a",
   "metadata": {},
   "outputs": [],
   "source": [
    "a = float(input(\"Enter first number: \")) \n",
    "b = float(input(\"Enter second number: \")) \n",
    "c = float(input(\"Enter third number: \"))\n",
    "\n",
    "if a >= b and a >= c:\n",
    "    largest = a\n",
    "elif b >= a and b >= c:\n",
    "    largest = b\n",
    "else:\n",
    "    largest = c\n",
    "\n",
    "print(\"The largest number is:\", largest)\n"
   ]
  },
  {
   "cell_type": "code",
   "execution_count": null,
   "id": "13d0f096",
   "metadata": {},
   "outputs": [],
   "source": []
  },
  {
   "cell_type": "code",
   "execution_count": null,
   "id": "c79e93ed",
   "metadata": {},
   "outputs": [],
   "source": []
  }
 ],
 "metadata": {
  "kernelspec": {
   "display_name": "Python 3 (ipykernel)",
   "language": "python",
   "name": "python3"
  },
  "language_info": {
   "codemirror_mode": {
    "name": "ipython",
    "version": 3
   },
   "file_extension": ".py",
   "mimetype": "text/x-python",
   "name": "python",
   "nbconvert_exporter": "python",
   "pygments_lexer": "ipython3",
   "version": "3.9.7"
  }
 },
 "nbformat": 4,
 "nbformat_minor": 5
}
