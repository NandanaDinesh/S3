{
 "cells": [
  {
   "cell_type": "code",
   "execution_count": 3,
   "id": "bc5e6e19",
   "metadata": {},
   "outputs": [
    {
     "name": "stdout",
     "output_type": "stream",
     "text": [
      "Matrix Operation\n",
      "\n",
      "Matrix A:\n",
      " [[2 4]\n",
      " [6 3]]\n",
      "\n",
      "Matrix B:\n",
      " [[1 2]\n",
      " [3 5]]\n",
      "\n",
      "Addition:\n",
      " [[3 6]\n",
      " [9 8]]\n",
      "\n",
      "Substraction:\n",
      " [[ 1  2]\n",
      " [ 3 -2]]\n",
      "\n",
      "Multiplication (Element-wise):\n",
      " [[ 2  8]\n",
      " [18 15]]\n",
      "\n",
      "Multiplication (Row x Column):\n",
      " [[14 24]\n",
      " [15 27]]\n",
      "\n",
      "Transpose:\n",
      " [[2 6]\n",
      " [4 3]]\n"
     ]
    }
   ],
   "source": [
    "#matrix Operation \n",
    "import numpy as np \n",
    "print(\"Matrix Operation\") \n",
    "a=np.array([[2,4], \n",
    "[6,3]]) \n",
    "b=np.array([[1,2], \n",
    "[3,5]]) \n",
    "# Vectorized addition \n",
    "c=a+b \n",
    "d=a-b \n",
    "e=a*b \n",
    "f=np.dot(a,b) \n",
    "a_transpose=a.T \n",
    "print(\"\\nMatrix A:\\n\",a) \n",
    "print(\"\\nMatrix B:\\n\",b) \n",
    "print(\"\\nAddition:\\n\",c) \n",
    "print(\"\\nSubstraction:\\n\",d) \n",
    "print(\"\\nMultiplication (Element-wise):\\n\",e) \n",
    "print(\"\\nMultiplication (Row x Column):\\n\",f) \n",
    "print(\"\\nTranspose:\\n\",a_transpose)"
   ]
  },
  {
   "cell_type": "code",
   "execution_count": 4,
   "id": "cbade95a",
   "metadata": {},
   "outputs": [
    {
     "name": "stdout",
     "output_type": "stream",
     "text": [
      "Original Matrix A:\n",
      " [[3 4 3]\n",
      " [1 2 3]\n",
      " [4 2 1]]\n",
      "\n",
      "Matrix U:\n",
      " [[-0.73553325 -0.18392937 -0.65204358]\n",
      " [-0.42657919 -0.62196982  0.65664582]\n",
      " [-0.52632788  0.76113306  0.37901904]]\n",
      "\n",
      "Singular Values D:\n",
      " [7.87764972 2.54031671 0.69958986]\n",
      "\n",
      "Matrix VT:\n",
      " [[-0.60151068 -0.61540527 -0.5093734 ]\n",
      " [ 0.73643349 -0.18005275 -0.65210944]\n",
      " [ 0.30959751 -0.76737042  0.5615087 ]]\n",
      "\n",
      "Reconstructed Matrix (REMAKE):\n",
      " [[3. 4. 3.]\n",
      " [1. 2. 3.]\n",
      " [4. 2. 1.]]\n"
     ]
    }
   ],
   "source": [
    "import numpy as np \n",
    "# Creating a matrix A \n",
    "A = np.array([[3, 4, 3], \n",
    "[1, 2, 3], \n",
    "[4, 2, 1]]) \n",
    "print(\"Original Matrix A:\\n\", A) \n",
    "# Performing SVD \n",
    "U, D, VT = np.linalg.svd(A) \n",
    "print(\"\\nMatrix U:\\n\", U) \n",
    "print(\"\\nSingular Values D:\\n\", D) \n",
    "print(\"\\nMatrix VT:\\n\", VT) \n",
    "# Creating a diagonal matrix from D \n",
    "D_matrix = np.zeros((U.shape[0], VT.shape[0])) \n",
    "np.fill_diagonal(D_matrix, D) \n",
    "# Checking if we can remake the original matrix using U, D_matrix, VT \n",
    "A_remake = (U @ D_matrix @ VT) \n",
    "print(\"\\nReconstructed Matrix (REMAKE):\\n\", A_remake)"
   ]
  },
  {
   "cell_type": "code",
   "execution_count": null,
   "id": "d841d9d5",
   "metadata": {},
   "outputs": [],
   "source": []
  }
 ],
 "metadata": {
  "kernelspec": {
   "display_name": "Python 3 (ipykernel)",
   "language": "python",
   "name": "python3"
  },
  "language_info": {
   "codemirror_mode": {
    "name": "ipython",
    "version": 3
   },
   "file_extension": ".py",
   "mimetype": "text/x-python",
   "name": "python",
   "nbconvert_exporter": "python",
   "pygments_lexer": "ipython3",
   "version": "3.9.7"
  }
 },
 "nbformat": 4,
 "nbformat_minor": 5
}
