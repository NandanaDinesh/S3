{
 "cells": [
  {
   "cell_type": "code",
   "execution_count": 30,
   "id": "21ec71d4",
   "metadata": {},
   "outputs": [
    {
     "name": "stdout",
     "output_type": "stream",
     "text": [
      "Accuracy of k-NN with k=3:0.93\n"
     ]
    }
   ],
   "source": [
    "import numpy as np \n",
    "from sklearn.datasets import load_breast_cancer \n",
    "from sklearn.model_selection import train_test_split \n",
    "from sklearn.neighbors import KNeighborsClassifier \n",
    "from sklearn.metrics import accuracy_score \n",
    "from sklearn.preprocessing import LabelEncoder \n",
    "from sklearn.preprocessing import LabelEncoder \n",
    "#Load the breast cancer dataset \n",
    "data=load_breast_cancer() \n",
    "X=data.data #Features \n",
    "y=data.target #Target(labels) \n",
    "#Split the dataset into training and testing sets \n",
    "X_train,X_test,y_train,y_test=train_test_split(X,y,test_size=0.2,random_state=42) \n",
    "#Initialize the k-NN classifier with a specified value of k \n",
    "k=3 #You can change this value as needed \n",
    "knn=KNeighborsClassifier(n_neighbors=k) \n",
    "#Fit the model on the training data \n",
    "knn.fit(X_train,y_train) \n",
    "#Make predictions on the test data \n",
    "y_pred=knn.predict(X_test) \n",
    "#Calculate the accuracy of the model \n",
    "accuracy=accuracy_score(y_test,y_pred) \n",
    "print(f'Accuracy of k-NN with k={k}:{accuracy:.2f}')"
   ]
  },
  {
   "cell_type": "code",
   "execution_count": 7,
   "id": "10bc78b3",
   "metadata": {},
   "outputs": [
    {
     "name": "stdout",
     "output_type": "stream",
     "text": [
      "vegetable\n",
      "0.3333333333333333\n"
     ]
    }
   ],
   "source": [
    "import numpy as np  \n",
    "import pandas as pd \n",
    "# from sklearn.datasets import load_iris \n",
    "from sklearn.model_selection import train_test_split  \n",
    "from sklearn.neighbors import KNeighborsClassifier \n",
    "from sklearn.metrics import accuracy_score \n",
    "from sklearn.preprocessing import LabelEncoder \n",
    "data = pd.read_csv(r'food .csv') \n",
    "X = data.iloc[:, :3] \n",
    "# print(X) \n",
    "y= data.iloc[:, 3] \n",
    "le = LabelEncoder() \n",
    "categorical_columns = ['Ingredient']   \n",
    "for col in categorical_columns: \n",
    "    X[col] = le.fit_transform(X[col]) \n",
    "y = le.fit_transform(y) \n",
    "X_train,X_test,y_train,y_test = train_test_split(X,y,test_size=0.2,random_state=42) \n",
    "k=3 \n",
    "knn = KNeighborsClassifier(n_neighbors=k) \n",
    "knn.fit(X_train,y_train) \n",
    "y_pred = knn.predict(X_test) \n",
    "sample=[[1,10,9]] \n",
    "res=knn.predict(sample)[0]\n",
    "pred_label=le.inverse_transform([res])[0]\n",
    "\n",
    "\n",
    "print(pred_label) \n",
    "\n",
    "accuracy = accuracy_score(y_test,y_pred) \n",
    "print(accuracy)"
   ]
  },
  {
   "cell_type": "code",
   "execution_count": 6,
   "id": "58fa6bed",
   "metadata": {},
   "outputs": [
    {
     "name": "stdout",
     "output_type": "stream",
     "text": [
      "male\n",
      "0.6977611940298507\n"
     ]
    }
   ],
   "source": [
    "import numpy as np  \n",
    "import pandas as pd \n",
    "# from sklearn.datasets import load_iris \n",
    "from sklearn.model_selection import train_test_split  \n",
    "from sklearn.neighbors import KNeighborsClassifier \n",
    "from sklearn.metrics import accuracy_score \n",
    "data = pd.read_csv(r'insurance .csv') \n",
    "X = data.iloc[:, :6] \n",
    "# print(X) \n",
    "y= data.iloc[:, 1] \n",
    "le = LabelEncoder() \n",
    "categorical_columns = ['sex', 'smoker', 'region']   \n",
    "for col in categorical_columns: \n",
    "    X[col] = le.fit_transform(X[col]) \n",
    "y = le.fit_transform(y) \n",
    "X_train,X_test,y_train,y_test = train_test_split(X,y,test_size=0.2,random_state=42) \n",
    "k=3 \n",
    "knn = KNeighborsClassifier(n_neighbors=k) \n",
    "knn.fit(X_train,y_train) \n",
    "y_pred = knn.predict(X_test) \n",
    "sample=[[1,10,9,11,4,2]] \n",
    "res=knn.predict(sample) [0]\n",
    "pred_label=le.inverse_transform([res])[0]\n",
    "\n",
    "\n",
    "print(pred_label) \n",
    "accuracy = accuracy_score(y_test,y_pred) \n",
    "print(accuracy)"
   ]
  },
  {
   "cell_type": "code",
   "execution_count": 5,
   "id": "745cf9b9",
   "metadata": {},
   "outputs": [
    {
     "name": "stdout",
     "output_type": "stream",
     "text": [
      "Yes\n",
      "1.0\n"
     ]
    }
   ],
   "source": [
    "import numpy as np  \n",
    "import pandas as pd \n",
    "# from sklearn.datasets import load_iris \n",
    "from sklearn.model_selection import train_test_split  \n",
    "from sklearn.neighbors import KNeighborsClassifier \n",
    "from sklearn.metrics import accuracy_score \n",
    "from sklearn.preprocessing import LabelEncoder \n",
    "data = pd.read_csv(r'cricket .csv') \n",
    "X = data.iloc[:, :5] \n",
    "# print(X) \n",
    "y= data.iloc[:, 4] \n",
    "# print(y) \n",
    "le = LabelEncoder() \n",
    "categorical_columns = ['Outlook','Temp','Humidity','Windy','Play Cricket']   \n",
    "for col in categorical_columns: \n",
    "    X[col] = le.fit_transform(X[col]) \n",
    "y = le.fit_transform(y) \n",
    "X_train,X_test,y_train,y_test = train_test_split(X,y,test_size=0.2,random_state=42) \n",
    "k=3 \n",
    "knn = KNeighborsClassifier(n_neighbors=k) \n",
    "knn.fit(X_train,y_train) \n",
    "y_pred = knn.predict(X_test) \n",
    "sample=[[1,10,9,11,4]] \n",
    "res=knn.predict(sample)[0]\n",
    "pred_label=le.inverse_transform([res])[0]\n",
    "\n",
    "\n",
    "print(pred_label) \n",
    "accuracy = accuracy_score(y_test,y_pred) \n",
    "print(accuracy)\n"
   ]
  },
  {
   "cell_type": "code",
   "execution_count": null,
   "id": "6fab39bc",
   "metadata": {},
   "outputs": [],
   "source": []
  }
 ],
 "metadata": {
  "kernelspec": {
   "display_name": "Python 3 (ipykernel)",
   "language": "python",
   "name": "python3"
  },
  "language_info": {
   "codemirror_mode": {
    "name": "ipython",
    "version": 3
   },
   "file_extension": ".py",
   "mimetype": "text/x-python",
   "name": "python",
   "nbconvert_exporter": "python",
   "pygments_lexer": "ipython3",
   "version": "3.9.7"
  }
 },
 "nbformat": 4,
 "nbformat_minor": 5
}
