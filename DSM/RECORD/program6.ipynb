{
 "cells": [
  {
   "cell_type": "code",
   "execution_count": 1,
   "id": "2949ecd8",
   "metadata": {},
   "outputs": [
    {
     "name": "stdout",
     "output_type": "stream",
     "text": [
      "1.0\n",
      "Accuracy: 100.00%\n"
     ]
    }
   ],
   "source": [
    "#naive bayes \n",
    "import numpy as np \n",
    "from sklearn import datasets,metrics \n",
    "from sklearn.model_selection import train_test_split \n",
    "from sklearn.naive_bayes import GaussianNB \n",
    "from sklearn.metrics import accuracy_score \n",
    "#load the iris dataset \n",
    "iris=datasets.load_iris() \n",
    "X=iris.data \n",
    "y=iris.target \n",
    "#split the data into training and testing sets(80% training,20% testing) \n",
    "X_train,X_test,y_train,y_test=train_test_split(X,y,test_size=0.2,random_state=42) \n",
    "#create a Gaussian Naive Bayes classifier \n",
    "nb_classifier=GaussianNB() \n",
    "#Train the classifier using the train data \n",
    "nb_classifier.fit(X_train,y_train) \n",
    "#make predictions on the testing data \n",
    "y_pred=nb_classifier.predict(X_test) \n",
    "#calculate the accuracy of the classifier \n",
    "accuracy=accuracy_score(y_test,y_pred) \n",
    "print(accuracy) \n",
    "print(f\"Accuracy: {accuracy*100:.2f}%\") "
   ]
  },
  {
   "cell_type": "code",
   "execution_count": 9,
   "id": "b285bfb1",
   "metadata": {},
   "outputs": [
    {
     "name": "stdout",
     "output_type": "stream",
     "text": [
      "confusion_matrix \n",
      " [[10  0  0]\n",
      " [ 0  9  0]\n",
      " [ 0  0 11]]\n",
      "Classification_report \n",
      "               precision    recall  f1-score   support\n",
      "\n",
      "           0       1.00      1.00      1.00        10\n",
      "           1       1.00      1.00      1.00         9\n",
      "           2       1.00      1.00      1.00        11\n",
      "\n",
      "    accuracy                           1.00        30\n",
      "   macro avg       1.00      1.00      1.00        30\n",
      "weighted avg       1.00      1.00      1.00        30\n",
      "\n",
      "Accuracy:\n",
      " 1.0\n"
     ]
    }
   ],
   "source": [
    "#naive bayes \n",
    "import numpy as np \n",
    "from sklearn import datasets,metrics \n",
    "from sklearn.model_selection import train_test_split \n",
    "from sklearn.naive_bayes import GaussianNB \n",
    "from sklearn.metrics import accuracy_score,confusion_matrix,classification_report \n",
    "#load the iris dataset \n",
    "\n",
    "iris=datasets.load_iris() \n",
    "X=iris.data \n",
    "y=iris.target \n",
    "#split the data into training and testing sets(80% training,20% testing) \n",
    "X_train,X_test,y_train,y_test=train_test_split(X,y,test_size=0.2,random_state=42) \n",
    "#create a Gaussian Naive Bayes classifier \n",
    "nb_classifier=GaussianNB() \n",
    "#Train the classifier using the train data \n",
    "nb_classifier.fit(X_train,y_train) \n",
    "#make predictions on the testing data \n",
    "y_pred=nb_classifier.predict(X_test) \n",
    "#consusion matrix \n",
    "res=confusion_matrix(y_test,y_pred) \n",
    "print(\"confusion_matrix \\n\",res) \n",
    "#classification report \n",
    "res1=classification_report(y_test,y_pred) \n",
    "print(\"Classification_report \\n\",res1) \n",
    "#calculate the accuracy of the classifier \n",
    "accuracy=accuracy_score(y_test,y_pred) \n",
    "print(\"Accuracy:\\n\",accuracy) \n",
    "# print(f\"Accuracy: {accuracy*100:.2f}%\")"
   ]
  },
  {
   "cell_type": "code",
   "execution_count": null,
   "id": "080cd8b2",
   "metadata": {},
   "outputs": [],
   "source": []
  }
 ],
 "metadata": {
  "kernelspec": {
   "display_name": "Python 3 (ipykernel)",
   "language": "python",
   "name": "python3"
  },
  "language_info": {
   "codemirror_mode": {
    "name": "ipython",
    "version": 3
   },
   "file_extension": ".py",
   "mimetype": "text/x-python",
   "name": "python",
   "nbconvert_exporter": "python",
   "pygments_lexer": "ipython3",
   "version": "3.9.7"
  }
 },
 "nbformat": 4,
 "nbformat_minor": 5
}
