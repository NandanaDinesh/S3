{
 "cells": [
  {
   "cell_type": "code",
   "execution_count": null,
   "id": "6feabd88",
   "metadata": {
    "vscode": {
     "languageId": "plaintext"
    }
   },
   "outputs": [],
   "source": [
    "import numpy as np\n",
    "import matplotlib.pyplot as plt\n",
    "x=np.array([1,5])\n",
    "y=np.array([3,7])\n",
    "plt.plot(x,y)\n",
    "plt.show()"
   ]
  },
  {
   "cell_type": "code",
   "execution_count": null,
   "id": "27ac6b73",
   "metadata": {
    "vscode": {
     "languageId": "plaintext"
    }
   },
   "outputs": [],
   "source": [
    "import numpy as np\n",
    "import matplotlib.pyplot as plt\n",
    "x=np.array([1,5])\n",
    "y=np.array([3,6])\n",
    "plt.plot(x,y,'o')\n",
    "plt.show()"
   ]
  },
  {
   "cell_type": "code",
   "execution_count": null,
   "id": "7992b938",
   "metadata": {
    "vscode": {
     "languageId": "plaintext"
    }
   },
   "outputs": [],
   "source": [
    "import numpy as np\n",
    "import matplotlib.pyplot as plt\n",
    "x=np.array([2,4,6,8,10,12])\n",
    "y=np.array([3,5,7,9,6,14])\n",
    "plt.scatter(x,y)\n",
    "plt.show()"
   ]
  },
  {
   "cell_type": "code",
   "execution_count": null,
   "id": "b1fc8c68",
   "metadata": {
    "vscode": {
     "languageId": "plaintext"
    }
   },
   "outputs": [],
   "source": [
    "import numpy as np\n",
    "import matplotlib.pyplot as plt\n",
    "x=np.array([2,4,6,8,10,12])\n",
    "y=np.array([3,5,7,9,6,14])\n",
    "plt.plot(x,y,marker='o')\n",
    "plt.show()"
   ]
  },
  {
   "cell_type": "code",
   "execution_count": null,
   "id": "c8647d1b",
   "metadata": {
    "vscode": {
     "languageId": "plaintext"
    }
   },
   "outputs": [],
   "source": [
    "import numpy as np\n",
    "import matplotlib.pyplot as plt\n",
    "x=np.array([2,4,6,8,10,12])\n",
    "y=np.array([3,5,7,9,6,14])\n",
    "plt.subplot(1,2,1)\n",
    "plt.plot(x,y,'c')\n",
    "x2=np.array([6,3,3,7,8,2])\n",
    "y2=np.array([3,5,7,9,6,14])\n",
    "plt.subplot(1,2,2)\n",
    "plt.plot(x,y,'g')"
   ]
  },
  {
   "cell_type": "code",
   "execution_count": null,
   "id": "957df03d",
   "metadata": {
    "vscode": {
     "languageId": "plaintext"
    }
   },
   "outputs": [],
   "source": [
    "import numpy as np\n",
    "import matplotlib.pyplot as plt\n",
    "x=np.array([\"anu\",\"sanu\",\"manu\"])\n",
    "y=np.array([243,523,595])\n",
    "plt.bar(x,y,color=\"cyan\",width=0.5)"
   ]
  },
  {
   "cell_type": "code",
   "execution_count": null,
   "id": "f8558f33",
   "metadata": {
    "vscode": {
     "languageId": "plaintext"
    }
   },
   "outputs": [],
   "source": [
    "import numpy as np\n",
    "import matplotlib.pyplot as plt\n",
    "x=np.array([1,10,32,22,44])\n",
    "mlabel=[\"apple\",\"orange\",\"grapes\",\"kiwi\",\"others\"]\n",
    "plt.pie(x,labels=mlabel)\n",
    "plt.show()"
   ]
  },
  {
   "cell_type": "code",
   "execution_count": null,
   "id": "792f0eb7",
   "metadata": {
    "vscode": {
     "languageId": "plaintext"
    }
   },
   "outputs": [],
   "source": [
    "import matplotlib.pyplot as plt\n",
    "import numpy as np\n",
    "dict={'anu':50,'manu':23,'sinu':43}\n",
    "studname=list(dict.keys())\n",
    "totmark=list(dict.values())\n",
    "plt.bar(studname,totmark,color='cyan',width=0.3)\n",
    "plt.xlabel(\"studname\")\n",
    "plt.ylabel(\"totmark\")\n",
    "plt.title(\"Student mark\")\n",
    "plt.show()"
   ]
  },
  {
   "cell_type": "code",
   "execution_count": null,
   "id": "ad0ef54f",
   "metadata": {
    "vscode": {
     "languageId": "plaintext"
    }
   },
   "outputs": [],
   "source": [
    "\n",
    "import numpy as np\n",
    "import matplotlib.pyplot as plt\n",
    "x=np.array([2,4,6,8,10,12])\n",
    "y=np.array([3,5,7,9,6,14])\n",
    "x1=np.array([6,3,3,7,8,2])\n",
    "y1=np.array([3,5,7,9,6,14])\n",
    "plt.plot(x,y,label='1st')\n",
    "plt.plot(x1,y1,label='2nd')\n",
    "plt.legend(loc='upper right')"
   ]
  }
 ],
 "metadata": {
  "language_info": {
   "name": "python"
  }
 },
 "nbformat": 4,
 "nbformat_minor": 5
}
